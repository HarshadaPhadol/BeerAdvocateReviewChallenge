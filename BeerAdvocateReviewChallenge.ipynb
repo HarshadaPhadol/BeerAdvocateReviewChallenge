{
 "cells": [
  {
   "cell_type": "markdown",
   "metadata": {},
   "source": [
    "# Beer Advocate Review Challenge"
   ]
  },
  {
   "cell_type": "markdown",
   "metadata": {},
   "source": [
    "# Challenge Questions:\n",
    "1. Which brewery produces the strongest beers by ABV%?\n",
    "2. If you had to pick 3 beers to recommend using only this data, which would you pick?\n",
    "3. Which of the factors (aroma, taste, appearance, palette) are most important indetermining the overall quality of a beer?\n",
    "4. Lastly, if I typically enjoy a beer due to its aroma and appearance, which beer style should I try?"
   ]
  },
  {
   "cell_type": "code",
   "execution_count": 1,
   "metadata": {},
   "outputs": [],
   "source": [
    "import os\n",
    "import tarfile\n",
    "import numpy as np\n",
    "import pandas as pd\n",
    "import seaborn as sns\n",
    "from IPython.display import display, HTML\n",
    "import matplotlib.pyplot as plt\n",
    "from sklearn.ensemble import RandomForestRegressor"
   ]
  },
  {
   "cell_type": "code",
   "execution_count": 2,
   "metadata": {},
   "outputs": [
    {
     "data": {
      "text/html": [
       "<div>\n",
       "<style scoped>\n",
       "    .dataframe tbody tr th:only-of-type {\n",
       "        vertical-align: middle;\n",
       "    }\n",
       "\n",
       "    .dataframe tbody tr th {\n",
       "        vertical-align: top;\n",
       "    }\n",
       "\n",
       "    .dataframe thead th {\n",
       "        text-align: right;\n",
       "    }\n",
       "</style>\n",
       "<table border=\"1\" class=\"dataframe\">\n",
       "  <thead>\n",
       "    <tr style=\"text-align: right;\">\n",
       "      <th></th>\n",
       "      <th>brewery_id</th>\n",
       "      <th>brewery_name</th>\n",
       "      <th>review_time</th>\n",
       "      <th>review_overall</th>\n",
       "      <th>review_aroma</th>\n",
       "      <th>review_appearance</th>\n",
       "      <th>review_profilename</th>\n",
       "      <th>beer_style</th>\n",
       "      <th>review_palate</th>\n",
       "      <th>review_taste</th>\n",
       "      <th>beer_name</th>\n",
       "      <th>beer_abv</th>\n",
       "      <th>beer_beerid</th>\n",
       "    </tr>\n",
       "  </thead>\n",
       "  <tbody>\n",
       "    <tr>\n",
       "      <td>0</td>\n",
       "      <td>10325</td>\n",
       "      <td>Vecchio Birraio</td>\n",
       "      <td>1234817823</td>\n",
       "      <td>1.5</td>\n",
       "      <td>2.0</td>\n",
       "      <td>2.5</td>\n",
       "      <td>stcules</td>\n",
       "      <td>Hefeweizen</td>\n",
       "      <td>1.5</td>\n",
       "      <td>1.5</td>\n",
       "      <td>Sausa Weizen</td>\n",
       "      <td>5.0</td>\n",
       "      <td>47986</td>\n",
       "    </tr>\n",
       "  </tbody>\n",
       "</table>\n",
       "</div>"
      ],
      "text/plain": [
       "   brewery_id     brewery_name  review_time  review_overall  review_aroma  \\\n",
       "0       10325  Vecchio Birraio   1234817823             1.5           2.0   \n",
       "\n",
       "   review_appearance review_profilename  beer_style  review_palate  \\\n",
       "0                2.5            stcules  Hefeweizen            1.5   \n",
       "\n",
       "   review_taste     beer_name  beer_abv  beer_beerid  \n",
       "0           1.5  Sausa Weizen       5.0        47986  "
      ]
     },
     "metadata": {},
     "output_type": "display_data"
    }
   ],
   "source": [
    "beerData = pd.read_csv(\"D:/code/socialmediadata-beeradvocate/beer_reviews.csv\")\n",
    "display(beerData[:1].head())"
   ]
  },
  {
   "cell_type": "code",
   "execution_count": 3,
   "metadata": {},
   "outputs": [
    {
     "name": "stdout",
     "output_type": "stream",
     "text": [
      "<class 'pandas.core.frame.DataFrame'>\n",
      "RangeIndex: 1586614 entries, 0 to 1586613\n",
      "Data columns (total 13 columns):\n",
      "brewery_id            1586614 non-null int64\n",
      "brewery_name          1586599 non-null object\n",
      "review_time           1586614 non-null int64\n",
      "review_overall        1586614 non-null float64\n",
      "review_aroma          1586614 non-null float64\n",
      "review_appearance     1586614 non-null float64\n",
      "review_profilename    1586266 non-null object\n",
      "beer_style            1586614 non-null object\n",
      "review_palate         1586614 non-null float64\n",
      "review_taste          1586614 non-null float64\n",
      "beer_name             1586614 non-null object\n",
      "beer_abv              1518829 non-null float64\n",
      "beer_beerid           1586614 non-null int64\n",
      "dtypes: float64(6), int64(3), object(4)\n",
      "memory usage: 157.4+ MB\n"
     ]
    }
   ],
   "source": [
    "beerData.info()"
   ]
  },
  {
   "cell_type": "markdown",
   "metadata": {},
   "source": [
    "# 1. brewery produces the strongest beers by ABV%"
   ]
  },
  {
   "cell_type": "markdown",
   "metadata": {},
   "source": [
    "To get the brewery which produces the strongest beers by ABV %, I have taken the mean of ABV for each brewery name, since we have lot of reviewers for each beer."
   ]
  },
  {
   "cell_type": "code",
   "execution_count": 4,
   "metadata": {},
   "outputs": [
    {
     "data": {
      "text/html": [
       "<div>\n",
       "<style scoped>\n",
       "    .dataframe tbody tr th:only-of-type {\n",
       "        vertical-align: middle;\n",
       "    }\n",
       "\n",
       "    .dataframe tbody tr th {\n",
       "        vertical-align: top;\n",
       "    }\n",
       "\n",
       "    .dataframe thead th {\n",
       "        text-align: right;\n",
       "    }\n",
       "</style>\n",
       "<table border=\"1\" class=\"dataframe\">\n",
       "  <thead>\n",
       "    <tr style=\"text-align: right;\">\n",
       "      <th></th>\n",
       "      <th>brewery_name</th>\n",
       "      <th>beer_abv_mean</th>\n",
       "    </tr>\n",
       "  </thead>\n",
       "  <tbody>\n",
       "    <tr>\n",
       "      <td>4667</td>\n",
       "      <td>Schorschbräu</td>\n",
       "      <td>19.228824</td>\n",
       "    </tr>\n",
       "  </tbody>\n",
       "</table>\n",
       "</div>"
      ],
      "text/plain": [
       "      brewery_name  beer_abv_mean\n",
       "4667  Schorschbräu      19.228824"
      ]
     },
     "execution_count": 4,
     "metadata": {},
     "output_type": "execute_result"
    }
   ],
   "source": [
    "data = beerData.groupby('brewery_name').beer_abv.mean()\n",
    "strongABV = pd.DataFrame(data.reset_index())\n",
    "\n",
    "strongABV.columns = ['brewery_name', 'beer_abv_mean']\n",
    "\n",
    "strongestBeer = strongABV[strongABV.beer_abv_mean == strongABV.beer_abv_mean.max()]\n",
    "strongestBeer"
   ]
  },
  {
   "cell_type": "code",
   "execution_count": 5,
   "metadata": {},
   "outputs": [
    {
     "data": {
      "text/html": [
       "<div>\n",
       "<style scoped>\n",
       "    .dataframe tbody tr th:only-of-type {\n",
       "        vertical-align: middle;\n",
       "    }\n",
       "\n",
       "    .dataframe tbody tr th {\n",
       "        vertical-align: top;\n",
       "    }\n",
       "\n",
       "    .dataframe thead th {\n",
       "        text-align: right;\n",
       "    }\n",
       "</style>\n",
       "<table border=\"1\" class=\"dataframe\">\n",
       "  <thead>\n",
       "    <tr style=\"text-align: right;\">\n",
       "      <th></th>\n",
       "      <th>brewery_name</th>\n",
       "      <th>beer_abv</th>\n",
       "      <th>beer_beerid</th>\n",
       "    </tr>\n",
       "  </thead>\n",
       "  <tbody>\n",
       "    <tr>\n",
       "      <td>12919</td>\n",
       "      <td>Schorschbräu</td>\n",
       "      <td>57.7</td>\n",
       "      <td>73368</td>\n",
       "    </tr>\n",
       "  </tbody>\n",
       "</table>\n",
       "</div>"
      ],
      "text/plain": [
       "       brewery_name  beer_abv  beer_beerid\n",
       "12919  Schorschbräu      57.7        73368"
      ]
     },
     "execution_count": 5,
     "metadata": {},
     "output_type": "execute_result"
    }
   ],
   "source": [
    "strongestBeerDetails = beerData[beerData.beer_abv == beerData.beer_abv.max()]\n",
    "strongestBeerDetails[['brewery_name','beer_abv', 'beer_beerid']]"
   ]
  },
  {
   "cell_type": "markdown",
   "metadata": {},
   "source": [
    "# 2. If you had to pick 3 beers to recommend using only this data, which would you pick ?"
   ]
  },
  {
   "cell_type": "markdown",
   "metadata": {},
   "source": [
    "To pick the 3 beers to recommend using this data, I have selected below features to calculate the mean and get top 3 beers.\n",
    "1) review_overall, \n",
    "2) review_aroma, \n",
    "3) review_appearance \n",
    "4) review_palate, \n",
    "5) review_taste\n",
    "6) beer_abv"
   ]
  },
  {
   "cell_type": "code",
   "execution_count": 6,
   "metadata": {},
   "outputs": [
    {
     "name": "stdout",
     "output_type": "stream",
     "text": [
      "       beer_beerid  review_overall  review_aroma  review_appearance  \\\n",
      "46212        55451             5.0           5.0                5.0   \n",
      "64816        75956             5.0           5.0                5.0   \n",
      "40090        48325             5.0           5.0                5.0   \n",
      "\n",
      "       review_palate  review_taste  beer_abv  \n",
      "46212            5.0           5.0      13.0  \n",
      "64816            5.0           5.0      11.0  \n",
      "40090            5.0           5.0      10.5  \n"
     ]
    }
   ],
   "source": [
    "aggrData = beerData.groupby('beer_beerid').agg({'review_overall': np.mean,\n",
    "                                'review_aroma': np.mean,\n",
    "                                'review_appearance': np.mean,\n",
    "                                'review_palate': np.mean,     \n",
    "                                'review_taste': np.mean,\n",
    "                                'beer_abv': np.mean})\n",
    "\n",
    "selected = pd.DataFrame(aggrData.reset_index())\n",
    "\n",
    "topBeers = selected.sort_values(['review_overall', 'review_aroma','review_appearance','review_palate','review_taste','beer_abv'], ascending=[False,False, False, False, False, False])\n",
    "print(topBeers[:3])"
   ]
  },
  {
   "cell_type": "markdown",
   "metadata": {},
   "source": [
    "# 3. Which of the factors (aroma, taste, appearance, palette) are most important in determining the overall quality of a beer ?"
   ]
  },
  {
   "cell_type": "code",
   "execution_count": 7,
   "metadata": {},
   "outputs": [
    {
     "data": {
      "text/html": [
       "<div>\n",
       "<style scoped>\n",
       "    .dataframe tbody tr th:only-of-type {\n",
       "        vertical-align: middle;\n",
       "    }\n",
       "\n",
       "    .dataframe tbody tr th {\n",
       "        vertical-align: top;\n",
       "    }\n",
       "\n",
       "    .dataframe thead th {\n",
       "        text-align: right;\n",
       "    }\n",
       "</style>\n",
       "<table border=\"1\" class=\"dataframe\">\n",
       "  <thead>\n",
       "    <tr style=\"text-align: right;\">\n",
       "      <th></th>\n",
       "      <th>review_overall</th>\n",
       "      <th>review_aroma</th>\n",
       "      <th>review_taste</th>\n",
       "      <th>review_appearance</th>\n",
       "      <th>review_palate</th>\n",
       "    </tr>\n",
       "  </thead>\n",
       "  <tbody>\n",
       "    <tr>\n",
       "      <td>0</td>\n",
       "      <td>1.5</td>\n",
       "      <td>2.0</td>\n",
       "      <td>1.5</td>\n",
       "      <td>2.5</td>\n",
       "      <td>1.5</td>\n",
       "    </tr>\n",
       "    <tr>\n",
       "      <td>1</td>\n",
       "      <td>3.0</td>\n",
       "      <td>2.5</td>\n",
       "      <td>3.0</td>\n",
       "      <td>3.0</td>\n",
       "      <td>3.0</td>\n",
       "    </tr>\n",
       "    <tr>\n",
       "      <td>2</td>\n",
       "      <td>3.0</td>\n",
       "      <td>2.5</td>\n",
       "      <td>3.0</td>\n",
       "      <td>3.0</td>\n",
       "      <td>3.0</td>\n",
       "    </tr>\n",
       "    <tr>\n",
       "      <td>3</td>\n",
       "      <td>3.0</td>\n",
       "      <td>3.0</td>\n",
       "      <td>3.0</td>\n",
       "      <td>3.5</td>\n",
       "      <td>2.5</td>\n",
       "    </tr>\n",
       "    <tr>\n",
       "      <td>4</td>\n",
       "      <td>4.0</td>\n",
       "      <td>4.5</td>\n",
       "      <td>4.5</td>\n",
       "      <td>4.0</td>\n",
       "      <td>4.0</td>\n",
       "    </tr>\n",
       "  </tbody>\n",
       "</table>\n",
       "</div>"
      ],
      "text/plain": [
       "   review_overall  review_aroma  review_taste  review_appearance  \\\n",
       "0             1.5           2.0           1.5                2.5   \n",
       "1             3.0           2.5           3.0                3.0   \n",
       "2             3.0           2.5           3.0                3.0   \n",
       "3             3.0           3.0           3.0                3.5   \n",
       "4             4.0           4.5           4.5                4.0   \n",
       "\n",
       "   review_palate  \n",
       "0            1.5  \n",
       "1            3.0  \n",
       "2            3.0  \n",
       "3            2.5  \n",
       "4            4.0  "
      ]
     },
     "execution_count": 7,
     "metadata": {},
     "output_type": "execute_result"
    }
   ],
   "source": [
    "features = beerData[['review_overall','review_aroma','review_taste','review_appearance','review_palate']]\n",
    "features.head()"
   ]
  },
  {
   "cell_type": "code",
   "execution_count": 8,
   "metadata": {},
   "outputs": [
    {
     "data": {
      "image/png": "[encoded data removed]",
      "text/plain": [
       "<Figure size 432x288 with 2 Axes>"
      ]
     },
     "metadata": {
      "needs_background": "light"
     },
     "output_type": "display_data"
    }
   ],
   "source": [
    "correlation = features.corr()\n",
    "sns.heatmap(correlation, \n",
    "            xticklabels=correlation.columns.values,\n",
    "            yticklabels=correlation.columns.values)\n",
    "plt.show()\n"
   ]
  },
  {
   "cell_type": "code",
   "execution_count": 9,
   "metadata": {},
   "outputs": [
    {
     "data": {
      "text/html": [
       "<div>\n",
       "<style scoped>\n",
       "    .dataframe tbody tr th:only-of-type {\n",
       "        vertical-align: middle;\n",
       "    }\n",
       "\n",
       "    .dataframe tbody tr th {\n",
       "        vertical-align: top;\n",
       "    }\n",
       "\n",
       "    .dataframe thead th {\n",
       "        text-align: right;\n",
       "    }\n",
       "</style>\n",
       "<table border=\"1\" class=\"dataframe\">\n",
       "  <thead>\n",
       "    <tr style=\"text-align: right;\">\n",
       "      <th></th>\n",
       "      <th>review_overall</th>\n",
       "      <th>review_aroma</th>\n",
       "      <th>review_taste</th>\n",
       "      <th>review_appearance</th>\n",
       "      <th>review_palate</th>\n",
       "    </tr>\n",
       "  </thead>\n",
       "  <tbody>\n",
       "    <tr>\n",
       "      <td>review_overall</td>\n",
       "      <td>1.000000</td>\n",
       "      <td>0.616013</td>\n",
       "      <td>0.789816</td>\n",
       "      <td>0.501732</td>\n",
       "      <td>0.701914</td>\n",
       "    </tr>\n",
       "    <tr>\n",
       "      <td>review_aroma</td>\n",
       "      <td>0.616013</td>\n",
       "      <td>1.000000</td>\n",
       "      <td>0.716776</td>\n",
       "      <td>0.561029</td>\n",
       "      <td>0.616947</td>\n",
       "    </tr>\n",
       "    <tr>\n",
       "      <td>review_taste</td>\n",
       "      <td>0.789816</td>\n",
       "      <td>0.716776</td>\n",
       "      <td>1.000000</td>\n",
       "      <td>0.546980</td>\n",
       "      <td>0.734135</td>\n",
       "    </tr>\n",
       "    <tr>\n",
       "      <td>review_appearance</td>\n",
       "      <td>0.501732</td>\n",
       "      <td>0.561029</td>\n",
       "      <td>0.546980</td>\n",
       "      <td>1.000000</td>\n",
       "      <td>0.566634</td>\n",
       "    </tr>\n",
       "    <tr>\n",
       "      <td>review_palate</td>\n",
       "      <td>0.701914</td>\n",
       "      <td>0.616947</td>\n",
       "      <td>0.734135</td>\n",
       "      <td>0.566634</td>\n",
       "      <td>1.000000</td>\n",
       "    </tr>\n",
       "  </tbody>\n",
       "</table>\n",
       "</div>"
      ],
      "text/plain": [
       "                   review_overall  review_aroma  review_taste  \\\n",
       "review_overall           1.000000      0.616013      0.789816   \n",
       "review_aroma             0.616013      1.000000      0.716776   \n",
       "review_taste             0.789816      0.716776      1.000000   \n",
       "review_appearance        0.501732      0.561029      0.546980   \n",
       "review_palate            0.701914      0.616947      0.734135   \n",
       "\n",
       "                   review_appearance  review_palate  \n",
       "review_overall              0.501732       0.701914  \n",
       "review_aroma                0.561029       0.616947  \n",
       "review_taste                0.546980       0.734135  \n",
       "review_appearance           1.000000       0.566634  \n",
       "review_palate               0.566634       1.000000  "
      ]
     },
     "metadata": {},
     "output_type": "display_data"
    }
   ],
   "source": [
    "display(features.corr())"
   ]
  },
  {
   "cell_type": "markdown",
   "metadata": {},
   "source": [
    "# Review Overall has a high and positive correlation with review taste of .79 and this tells me that Review Overall has strong relationship with the review taste"
   ]
  },
  {
   "cell_type": "markdown",
   "metadata": {},
   "source": [
    "# 4. Lastly, if I typically enjoy a beer due to its aroma and appearance, which beer style should I try ?"
   ]
  },
  {
   "cell_type": "code",
   "execution_count": 10,
   "metadata": {},
   "outputs": [
    {
     "data": {
      "text/html": [
       "<div>\n",
       "<style scoped>\n",
       "    .dataframe tbody tr th:only-of-type {\n",
       "        vertical-align: middle;\n",
       "    }\n",
       "\n",
       "    .dataframe tbody tr th {\n",
       "        vertical-align: top;\n",
       "    }\n",
       "\n",
       "    .dataframe thead th {\n",
       "        text-align: right;\n",
       "    }\n",
       "</style>\n",
       "<table border=\"1\" class=\"dataframe\">\n",
       "  <thead>\n",
       "    <tr style=\"text-align: right;\">\n",
       "      <th></th>\n",
       "      <th>review_aroma</th>\n",
       "      <th>review_appearance</th>\n",
       "      <th>beer_style</th>\n",
       "    </tr>\n",
       "  </thead>\n",
       "  <tbody>\n",
       "    <tr>\n",
       "      <td>0</td>\n",
       "      <td>2.0</td>\n",
       "      <td>2.5</td>\n",
       "      <td>Hefeweizen</td>\n",
       "    </tr>\n",
       "    <tr>\n",
       "      <td>1</td>\n",
       "      <td>2.5</td>\n",
       "      <td>3.0</td>\n",
       "      <td>English Strong Ale</td>\n",
       "    </tr>\n",
       "    <tr>\n",
       "      <td>2</td>\n",
       "      <td>2.5</td>\n",
       "      <td>3.0</td>\n",
       "      <td>Foreign / Export Stout</td>\n",
       "    </tr>\n",
       "    <tr>\n",
       "      <td>3</td>\n",
       "      <td>3.0</td>\n",
       "      <td>3.5</td>\n",
       "      <td>German Pilsener</td>\n",
       "    </tr>\n",
       "    <tr>\n",
       "      <td>4</td>\n",
       "      <td>4.5</td>\n",
       "      <td>4.0</td>\n",
       "      <td>American Double / Imperial IPA</td>\n",
       "    </tr>\n",
       "  </tbody>\n",
       "</table>\n",
       "</div>"
      ],
      "text/plain": [
       "   review_aroma  review_appearance                      beer_style\n",
       "0           2.0                2.5                      Hefeweizen\n",
       "1           2.5                3.0              English Strong Ale\n",
       "2           2.5                3.0          Foreign / Export Stout\n",
       "3           3.0                3.5                 German Pilsener\n",
       "4           4.5                4.0  American Double / Imperial IPA"
      ]
     },
     "execution_count": 10,
     "metadata": {},
     "output_type": "execute_result"
    }
   ],
   "source": [
    "subData = beerData[['review_aroma','review_appearance','beer_style']]\n",
    "subData.head()"
   ]
  },
  {
   "cell_type": "code",
   "execution_count": 11,
   "metadata": {},
   "outputs": [],
   "source": [
    "# grouping the data by beer style and compute its each average score of aroma and appearance\n",
    "bs_df = beerData.groupby(['beer_style'])['review_aroma', 'review_appearance'].mean().round(3)\n",
    "# Calculating the combined score of aroma and appearance\n",
    "bs_df['Combined Scores'] = (bs_df['review_aroma'] + bs_df['review_appearance'])/2.0"
   ]
  },
  {
   "cell_type": "code",
   "execution_count": 12,
   "metadata": {},
   "outputs": [
    {
     "data": {
      "text/html": [
       "<div>\n",
       "<style scoped>\n",
       "    .dataframe tbody tr th:only-of-type {\n",
       "        vertical-align: middle;\n",
       "    }\n",
       "\n",
       "    .dataframe tbody tr th {\n",
       "        vertical-align: top;\n",
       "    }\n",
       "\n",
       "    .dataframe thead th {\n",
       "        text-align: right;\n",
       "    }\n",
       "</style>\n",
       "<table border=\"1\" class=\"dataframe\">\n",
       "  <thead>\n",
       "    <tr style=\"text-align: right;\">\n",
       "      <th></th>\n",
       "      <th>review_aroma</th>\n",
       "      <th>review_appearance</th>\n",
       "      <th>Combined Scores</th>\n",
       "    </tr>\n",
       "    <tr>\n",
       "      <th>beer_style</th>\n",
       "      <th></th>\n",
       "      <th></th>\n",
       "      <th></th>\n",
       "    </tr>\n",
       "  </thead>\n",
       "  <tbody>\n",
       "    <tr>\n",
       "      <td>American Double / Imperial Stout</td>\n",
       "      <td>4.161</td>\n",
       "      <td>4.164</td>\n",
       "      <td>4.1625</td>\n",
       "    </tr>\n",
       "    <tr>\n",
       "      <td>Russian Imperial Stout</td>\n",
       "      <td>4.077</td>\n",
       "      <td>4.210</td>\n",
       "      <td>4.1435</td>\n",
       "    </tr>\n",
       "    <tr>\n",
       "      <td>Quadrupel (Quad)</td>\n",
       "      <td>4.133</td>\n",
       "      <td>4.118</td>\n",
       "      <td>4.1255</td>\n",
       "    </tr>\n",
       "    <tr>\n",
       "      <td>American Double / Imperial IPA</td>\n",
       "      <td>4.098</td>\n",
       "      <td>4.079</td>\n",
       "      <td>4.0885</td>\n",
       "    </tr>\n",
       "    <tr>\n",
       "      <td>Gueuze</td>\n",
       "      <td>4.118</td>\n",
       "      <td>4.035</td>\n",
       "      <td>4.0765</td>\n",
       "    </tr>\n",
       "    <tr>\n",
       "      <td>...</td>\n",
       "      <td>...</td>\n",
       "      <td>...</td>\n",
       "      <td>...</td>\n",
       "    </tr>\n",
       "    <tr>\n",
       "      <td>Happoshu</td>\n",
       "      <td>2.595</td>\n",
       "      <td>2.925</td>\n",
       "      <td>2.7600</td>\n",
       "    </tr>\n",
       "    <tr>\n",
       "      <td>Low Alcohol Beer</td>\n",
       "      <td>2.463</td>\n",
       "      <td>2.918</td>\n",
       "      <td>2.6905</td>\n",
       "    </tr>\n",
       "    <tr>\n",
       "      <td>American Adjunct Lager</td>\n",
       "      <td>2.480</td>\n",
       "      <td>2.789</td>\n",
       "      <td>2.6345</td>\n",
       "    </tr>\n",
       "    <tr>\n",
       "      <td>American Malt Liquor</td>\n",
       "      <td>2.414</td>\n",
       "      <td>2.838</td>\n",
       "      <td>2.6260</td>\n",
       "    </tr>\n",
       "    <tr>\n",
       "      <td>Light Lager</td>\n",
       "      <td>2.170</td>\n",
       "      <td>2.429</td>\n",
       "      <td>2.2995</td>\n",
       "    </tr>\n",
       "  </tbody>\n",
       "</table>\n",
       "<p>104 rows × 3 columns</p>\n",
       "</div>"
      ],
      "text/plain": [
       "                                  review_aroma  review_appearance  \\\n",
       "beer_style                                                          \n",
       "American Double / Imperial Stout         4.161              4.164   \n",
       "Russian Imperial Stout                   4.077              4.210   \n",
       "Quadrupel (Quad)                         4.133              4.118   \n",
       "American Double / Imperial IPA           4.098              4.079   \n",
       "Gueuze                                   4.118              4.035   \n",
       "...                                        ...                ...   \n",
       "Happoshu                                 2.595              2.925   \n",
       "Low Alcohol Beer                         2.463              2.918   \n",
       "American Adjunct Lager                   2.480              2.789   \n",
       "American Malt Liquor                     2.414              2.838   \n",
       "Light Lager                              2.170              2.429   \n",
       "\n",
       "                                  Combined Scores  \n",
       "beer_style                                         \n",
       "American Double / Imperial Stout           4.1625  \n",
       "Russian Imperial Stout                     4.1435  \n",
       "Quadrupel (Quad)                           4.1255  \n",
       "American Double / Imperial IPA             4.0885  \n",
       "Gueuze                                     4.0765  \n",
       "...                                           ...  \n",
       "Happoshu                                   2.7600  \n",
       "Low Alcohol Beer                           2.6905  \n",
       "American Adjunct Lager                     2.6345  \n",
       "American Malt Liquor                       2.6260  \n",
       "Light Lager                                2.2995  \n",
       "\n",
       "[104 rows x 3 columns]"
      ]
     },
     "metadata": {},
     "output_type": "display_data"
    }
   ],
   "source": [
    "display(bs_df.sort_values(by=['Combined Scores'],ascending=False))"
   ]
  },
  {
   "cell_type": "markdown",
   "metadata": {},
   "source": [
    "According to the above list, we can figure out that American Double / Imperial Stout has highest value when we combine review_aroma and review_appearance which is 4.1625."
   ]
  },
  {
   "cell_type": "code",
   "execution_count": null,
   "metadata": {},
   "outputs": [],
   "source": []
  }
 ],
 "metadata": {
  "kernelspec": {
   "display_name": "Python 3",
   "language": "python",
   "name": "python3"
  },
  "language_info": {
   "codemirror_mode": {
    "name": "ipython",
    "version": 3
   },
   "file_extension": ".py",
   "mimetype": "text/x-python",
   "name": "python",
   "nbconvert_exporter": "python",
   "pygments_lexer": "ipython3",
   "version": "3.7.4"
  }
 },
 "nbformat": 4,
 "nbformat_minor": 2
}
